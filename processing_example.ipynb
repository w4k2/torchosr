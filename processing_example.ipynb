{
 "cells": [
  {
   "cell_type": "code",
   "execution_count": 2,
   "metadata": {},
   "outputs": [
    {
     "name": "stderr",
     "output_type": "stream",
     "text": [
      "/opt/homebrew/Caskroom/miniforge/base/envs/torch/lib/python3.9/site-packages/tqdm/auto.py:22: TqdmWarning: IProgress not found. Please update jupyter and ipywidgets. See https://ipywidgets.readthedocs.io/en/stable/user_install.html\n",
      "  from .autonotebook import tqdm as notebook_tqdm\n"
     ]
    }
   ],
   "source": [
    "import torchosr"
   ]
  },
  {
   "cell_type": "code",
   "execution_count": 21,
   "metadata": {},
   "outputs": [
    {
     "data": {
      "text/plain": [
       "Dataset MNIST_base\n",
       "    Number of datapoints: 70000\n",
       "    Root location: data\n",
       "    StandardTransform\n",
       "Transform: Compose(\n",
       "               Resize(size=28, interpolation=bilinear, max_size=None, antialias=None)\n",
       "               ToTensor()\n",
       "           )"
      ]
     },
     "execution_count": 21,
     "metadata": {},
     "output_type": "execute_result"
    }
   ],
   "source": [
    "from torchvision import transforms\n",
    "data = torchosr.data.base_datasets.MNIST_base(root='data', \n",
    "                                              download=True, \n",
    "                                              transform=transforms.Compose([\n",
    "                                                transforms.Resize(28),\n",
    "                                                transforms.ToTensor()]))\n",
    "data"
   ]
  },
  {
   "cell_type": "code",
   "execution_count": 22,
   "metadata": {},
   "outputs": [
    {
     "name": "stdout",
     "output_type": "stream",
     "text": [
      "C0 - Op: 0.047 KKC:[0 1 7 9 3] \t UUC:[6]\n",
      "C1 - Op: 0.047 KKC:[6 4 9 2 7] \t UUC:[1]\n",
      "C2 - Op: 0.047 KKC:[1 6 7 0 5] \t UUC:[9]\n",
      "C3 - Op: 0.225 KKC:[8 4 5] \t UUC:[3 1 9 6]\n",
      "C4 - Op: 0.225 KKC:[9 7 4] \t UUC:[2 5 0 8]\n",
      "C5 - Op: 0.225 KKC:[0 4 2] \t UUC:[3 9 6 8]\n",
      "C6 - Op: 0.397 KKC:[3 6] \t UUC:[9 1 4 0 8 7 5]\n",
      "C7 - Op: 0.397 KKC:[2 5] \t UUC:[9 8 6 3 1 4 7]\n",
      "C8 - Op: 0.397 KKC:[4 1] \t UUC:[3 0 5 9 2 7 8]\n"
     ]
    }
   ],
   "source": [
    "config, openness = torchosr.data.configure_division(data, \n",
    "                                                    n_openness=3, \n",
    "                                                    repeats=3, \n",
    "                                                    seed=1234)\n",
    "\n",
    "for i, (kkc, uuc) in enumerate(config):\n",
    "    print('C%i - Op: %.3f KKC:%s \\t UUC:%s' % (\n",
    "        i, \n",
    "        openness[int(i/3)].detach().numpy(), \n",
    "        kkc.detach().numpy(), \n",
    "        uuc.detach().numpy()))"
   ]
  },
  {
   "cell_type": "code",
   "execution_count": 31,
   "metadata": {},
   "outputs": [],
   "source": [
    "from torch.utils.data import DataLoader\n",
    "\n",
    "kkc, uuc = config[0]\n",
    "train_data, test_data = torchosr.data.get_train_test(data,\n",
    "                                                   kkc, uuc,\n",
    "                                                   root = 'data',\n",
    "                                                   tunning = False,\n",
    "                                                   fold = 0,\n",
    "                                                   seed = 1234,\n",
    "                                                   n_folds = 5)\n",
    "\n",
    "train_data_loader = DataLoader(train_data, batch_size=64, shuffle=True)\n",
    "test_data_loader = DataLoader(test_data, batch_size=64, shuffle=True)\n",
    "\n"
   ]
  },
  {
   "cell_type": "code",
   "execution_count": 35,
   "metadata": {},
   "outputs": [
    {
     "name": "stdout",
     "output_type": "stream",
     "text": [
      "Train labels: [0 1 2 3 4]\n",
      "Test labels: [0 1 2 3 4 5]\n"
     ]
    }
   ],
   "source": [
    "import numpy as np\n",
    "\n",
    "X, y = next(iter(train_data_loader))\n",
    "print('Train labels:', np.unique(np.argmax(y, axis=1)))\n",
    "    \n",
    "X, y = next(iter(test_data_loader))\n",
    "print('Test labels:', np.unique(np.argmax(y, axis=1)))\n"
   ]
  },
  {
   "cell_type": "code",
   "execution_count": 36,
   "metadata": {},
   "outputs": [
    {
     "ename": "AttributeError",
     "evalue": "module 'torchosr.utils' has no attribute 'get_softmax_epsilon'",
     "output_type": "error",
     "traceback": [
      "\u001b[0;31m---------------------------------------------------------------------------\u001b[0m",
      "\u001b[0;31mAttributeError\u001b[0m                            Traceback (most recent call last)",
      "Cell \u001b[0;32mIn[36], line 4\u001b[0m\n\u001b[1;32m      1\u001b[0m methods \u001b[39m=\u001b[39m [\n\u001b[1;32m      2\u001b[0m             torchosr\u001b[39m.\u001b[39mmodels\u001b[39m.\u001b[39mTSoftmax(lower_stack\u001b[39m=\u001b[39mtorchosr\u001b[39m.\u001b[39marchitectures\u001b[39m.\u001b[39mfc_lower_stack(depth\u001b[39m=\u001b[39m\u001b[39m1\u001b[39m, img_size_x\u001b[39m=\u001b[39m\u001b[39m28\u001b[39m, n_out_channels\u001b[39m=\u001b[39m\u001b[39m64\u001b[39m),\n\u001b[1;32m      3\u001b[0m                                 n_known\u001b[39m=\u001b[39m\u001b[39mlen\u001b[39m(kkc),\n\u001b[0;32m----> 4\u001b[0m                                 epsilon\u001b[39m=\u001b[39mtorchosr\u001b[39m.\u001b[39;49mutils\u001b[39m.\u001b[39;49mget_softmax_epsilon(\u001b[39mlen\u001b[39m(kkc))),\n\u001b[1;32m      5\u001b[0m             torchosr\u001b[39m.\u001b[39mmodels\u001b[39m.\u001b[39mOpenmax(lower_stack\u001b[39m=\u001b[39mtorchosr\u001b[39m.\u001b[39marchitectures\u001b[39m.\u001b[39mfc_lower_stack(depth\u001b[39m=\u001b[39m\u001b[39m1\u001b[39m, img_size_x\u001b[39m=\u001b[39m\u001b[39m28\u001b[39m, n_out_channels\u001b[39m=\u001b[39m\u001b[39m64\u001b[39m),\n\u001b[1;32m      6\u001b[0m                                n_known\u001b[39m=\u001b[39m\u001b[39mlen\u001b[39m(kkc),\n\u001b[1;32m      7\u001b[0m                                epsilon\u001b[39m=\u001b[39mtorchosr\u001b[39m.\u001b[39mutils\u001b[39m.\u001b[39mget_openmax_epsilon(\u001b[39mlen\u001b[39m(kkc))),\n\u001b[1;32m      8\u001b[0m             ]\n",
      "\u001b[0;31mAttributeError\u001b[0m: module 'torchosr.utils' has no attribute 'get_softmax_epsilon'"
     ]
    }
   ],
   "source": [
    "methods = [\n",
    "            torchosr.models.TSoftmax(lower_stack=torchosr.architectures.fc_lower_stack(depth=1, img_size_x=28, n_out_channels=64),\n",
    "                                n_known=len(kkc),\n",
    "                                epsilon=torchosr.utils.get_softmax_epsilon(len(kkc))),\n",
    "            torchosr.models.Openmax(lower_stack=torchosr.architectures.fc_lower_stack(depth=1, img_size_x=28, n_out_channels=64),\n",
    "                               n_known=len(kkc),\n",
    "                               epsilon=torchosr.utils.get_openmax_epsilon(len(kkc))),\n",
    "            ]"
   ]
  },
  {
   "cell_type": "code",
   "execution_count": null,
   "metadata": {},
   "outputs": [],
   "source": []
  }
 ],
 "metadata": {
  "kernelspec": {
   "display_name": "torch",
   "language": "python",
   "name": "python3"
  },
  "language_info": {
   "codemirror_mode": {
    "name": "ipython",
    "version": 3
   },
   "file_extension": ".py",
   "mimetype": "text/x-python",
   "name": "python",
   "nbconvert_exporter": "python",
   "pygments_lexer": "ipython3",
   "version": "3.9.15"
  },
  "orig_nbformat": 4
 },
 "nbformat": 4,
 "nbformat_minor": 2
}
